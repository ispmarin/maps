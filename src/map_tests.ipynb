{
 "cells": [
  {
   "cell_type": "code",
   "execution_count": 9,
   "metadata": {
    "collapsed": false
   },
   "outputs": [],
   "source": [
    "%matplotlib inline\n",
    "\n",
    "import os\n",
    "import pandas as pd\n",
    "import folium\n",
    "import matplotlib\n",
    "import matplotlib.pyplot as plt\n",
    "#import cartopy\n",
    "import folium"
   ]
  },
  {
   "cell_type": "code",
   "execution_count": 13,
   "metadata": {
    "collapsed": true
   },
   "outputs": [],
   "source": [
    "project_path = '/home/ispmarin/projects/external/maps'\n",
    "data_path = 'data'\n",
    "data_date = '20160211'\n",
    "\n",
    "data_dir = os.path.join(project_path, data_path, data_date)\n",
    "\n",
    "data_file = 'distance_santos.csv'\n",
    "\n",
    "distance_file = os.path.join(data_dir, data_file)\n",
    "df = pd.read_csv(distance_file, sep=';')"
   ]
  },
  {
   "cell_type": "code",
   "execution_count": 14,
   "metadata": {
    "collapsed": false
   },
   "outputs": [
    {
     "data": {
      "text/html": [
       "<div>\n",
       "<table border=\"1\" class=\"dataframe\">\n",
       "  <thead>\n",
       "    <tr style=\"text-align: right;\">\n",
       "      <th></th>\n",
       "      <th>nu_msidsn</th>\n",
       "      <th>dist</th>\n",
       "      <th>lng_max</th>\n",
       "      <th>lng_min</th>\n",
       "      <th>ltd_max</th>\n",
       "      <th>ltd_min</th>\n",
       "    </tr>\n",
       "  </thead>\n",
       "  <tbody>\n",
       "    <tr>\n",
       "      <th>0</th>\n",
       "      <td>13888006033940</td>\n",
       "      <td>1.270888</td>\n",
       "      <td>-46.297268</td>\n",
       "      <td>-46.309180</td>\n",
       "      <td>-23.980669</td>\n",
       "      <td>-23.984182</td>\n",
       "    </tr>\n",
       "    <tr>\n",
       "      <th>1</th>\n",
       "      <td>353109061258100</td>\n",
       "      <td>3.496431</td>\n",
       "      <td>-46.308346</td>\n",
       "      <td>-46.320790</td>\n",
       "      <td>-23.943857</td>\n",
       "      <td>-23.973194</td>\n",
       "    </tr>\n",
       "    <tr>\n",
       "      <th>2</th>\n",
       "      <td>353320065303330</td>\n",
       "      <td>0.932567</td>\n",
       "      <td>-46.329674</td>\n",
       "      <td>-46.338634</td>\n",
       "      <td>-23.942478</td>\n",
       "      <td>-23.944313</td>\n",
       "    </tr>\n",
       "    <tr>\n",
       "      <th>3</th>\n",
       "      <td>353334064547530</td>\n",
       "      <td>0.644233</td>\n",
       "      <td>-46.324944</td>\n",
       "      <td>-46.327500</td>\n",
       "      <td>-23.956112</td>\n",
       "      <td>-23.961418</td>\n",
       "    </tr>\n",
       "    <tr>\n",
       "      <th>4</th>\n",
       "      <td>353346060484900</td>\n",
       "      <td>1.885810</td>\n",
       "      <td>-46.315680</td>\n",
       "      <td>-46.329723</td>\n",
       "      <td>-23.953000</td>\n",
       "      <td>-23.964104</td>\n",
       "    </tr>\n",
       "    <tr>\n",
       "      <th>5</th>\n",
       "      <td>354451060376150</td>\n",
       "      <td>2.321544</td>\n",
       "      <td>-46.308346</td>\n",
       "      <td>-46.330940</td>\n",
       "      <td>-23.969997</td>\n",
       "      <td>-23.973194</td>\n",
       "    </tr>\n",
       "    <tr>\n",
       "      <th>6</th>\n",
       "      <td>354983059694120</td>\n",
       "      <td>1.107627</td>\n",
       "      <td>-46.340830</td>\n",
       "      <td>-46.348392</td>\n",
       "      <td>-23.956514</td>\n",
       "      <td>-23.963697</td>\n",
       "    </tr>\n",
       "    <tr>\n",
       "      <th>7</th>\n",
       "      <td>354988055476630</td>\n",
       "      <td>0.658353</td>\n",
       "      <td>-46.319424</td>\n",
       "      <td>-46.324944</td>\n",
       "      <td>-23.958311</td>\n",
       "      <td>-23.961418</td>\n",
       "    </tr>\n",
       "    <tr>\n",
       "      <th>8</th>\n",
       "      <td>354989057264910</td>\n",
       "      <td>1.961615</td>\n",
       "      <td>-46.327500</td>\n",
       "      <td>-46.343655</td>\n",
       "      <td>-23.956112</td>\n",
       "      <td>-23.965790</td>\n",
       "    </tr>\n",
       "  </tbody>\n",
       "</table>\n",
       "</div>"
      ],
      "text/plain": [
       "         nu_msidsn      dist    lng_max    lng_min    ltd_max    ltd_min\n",
       "0   13888006033940  1.270888 -46.297268 -46.309180 -23.980669 -23.984182\n",
       "1  353109061258100  3.496431 -46.308346 -46.320790 -23.943857 -23.973194\n",
       "2  353320065303330  0.932567 -46.329674 -46.338634 -23.942478 -23.944313\n",
       "3  353334064547530  0.644233 -46.324944 -46.327500 -23.956112 -23.961418\n",
       "4  353346060484900  1.885810 -46.315680 -46.329723 -23.953000 -23.964104\n",
       "5  354451060376150  2.321544 -46.308346 -46.330940 -23.969997 -23.973194\n",
       "6  354983059694120  1.107627 -46.340830 -46.348392 -23.956514 -23.963697\n",
       "7  354988055476630  0.658353 -46.319424 -46.324944 -23.958311 -23.961418\n",
       "8  354989057264910  1.961615 -46.327500 -46.343655 -23.956112 -23.965790"
      ]
     },
     "execution_count": 14,
     "metadata": {},
     "output_type": "execute_result"
    }
   ],
   "source": [
    "df"
   ]
  },
  {
   "cell_type": "code",
   "execution_count": 7,
   "metadata": {
    "collapsed": false
   },
   "outputs": [],
   "source": [
    "## Cartopy example - not working\n",
    "\n",
    "# ax = plt.axes(projection=ccrs.PlateCarree())\n",
    "# ax.stock_img()\n",
    "\n",
    "# ny_lon, ny_lat = -75, 43\n",
    "# delhi_lon, delhi_lat = 77.23, 28.61\n",
    "\n",
    "# plt.plot([ny_lon, delhi_lon], [ny_lat, delhi_lat],\n",
    "#          color='blue', linewidth=2, marker='o',\n",
    "#          transform=ccrs.Geodetic(),\n",
    "#          )\n",
    "\n",
    "# plt.plot([ny_lon, delhi_lon], [ny_lat, delhi_lat],\n",
    "#          color='gray', linestyle='--',\n",
    "#          transform=ccrs.PlateCarree(),\n",
    "#          )\n",
    "\n",
    "# plt.text(ny_lon - 3, ny_lat - 12, 'New York',\n",
    "#          horizontalalignment='right',\n",
    "#          transform=ccrs.Geodetic())\n",
    "\n",
    "# plt.text(delhi_lon + 3, delhi_lat - 12, 'Delhi',\n",
    "#          horizontalalignment='left',\n",
    "#          transform=ccrs.Geodetic())\n",
    "\n",
    "# plt.show()"
   ]
  },
  {
   "cell_type": "code",
   "execution_count": 50,
   "metadata": {
    "collapsed": false
   },
   "outputs": [
    {
     "data": {
      "text/html": [
       "<div style=\"width:100%;\"><div style=\"position:relative;width:100%;height:0;padding-bottom:60%;\"><iframe src=\"data:text/html;base64,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\" style=\"position:absolute;width:100%;height:100%;left:0;top:0;\"></iframe></div></div>"
      ],
      "text/plain": [
       "<folium.folium.Map at 0x7f4544d4b710>"
      ]
     },
     "execution_count": 50,
     "metadata": {},
     "output_type": "execute_result"
    }
   ],
   "source": [
    "zoom_start = 12\n",
    "\n",
    "mapa = folium.Map(location=[-23.9, -46.3], zoom_start=zoom_start)\n",
    "\n",
    "kw = dict(opacity=1.0, weight=4)\n",
    "\n",
    "lines = []\n",
    "\n",
    "start_points = list(zip(df['ltd_min'], df['lng_min'] ))\n",
    "end_points = list(zip(df['ltd_max'], df['lng_max'] ))\n",
    "\n",
    "for start_point, end_point in zip(start_points, end_points):\n",
    "    lines.append(\n",
    "        folium.PolyLine(locations=[\n",
    "                start_point,end_point\n",
    "            ], color='red', **kw)\n",
    "    )\n",
    "\n",
    "\n",
    "ml = folium.MultiPolyLine(locations=list(zip(start_points, end_points)), color='blue')\n",
    "    \n",
    "# for line in lines:\n",
    "#     mapa.add_children(line)\n",
    "mapa.add_children(ml)\n",
    "\n",
    "mapa"
   ]
  },
  {
   "cell_type": "code",
   "execution_count": null,
   "metadata": {
    "collapsed": true
   },
   "outputs": [],
   "source": []
  }
 ],
 "metadata": {
  "kernelspec": {
   "display_name": "Python 3",
   "language": "python",
   "name": "python3"
  },
  "language_info": {
   "codemirror_mode": {
    "name": "ipython",
    "version": 3
   },
   "file_extension": ".py",
   "mimetype": "text/x-python",
   "name": "python",
   "nbconvert_exporter": "python",
   "pygments_lexer": "ipython3",
   "version": "3.4.3"
  }
 },
 "nbformat": 4,
 "nbformat_minor": 0
}
